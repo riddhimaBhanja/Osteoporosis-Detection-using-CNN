{
 "cells": [
  {
   "cell_type": "code",
   "execution_count": 1,
   "id": "f76b30dc",
   "metadata": {},
   "outputs": [
    {
     "name": "stdout",
     "output_type": "stream",
     "text": [
      "Preprocessing complete. Check 'preprocessed_dataset' folder.\n"
     ]
    }
   ],
   "source": [
    "import os\n",
    "import cv2\n",
    "import numpy as np\n",
    "from pathlib import Path\n",
    "\n",
    "# Define dataset paths\n",
    "dataset_path = \"dataset\"\n",
    "subfolders = [\"above40\", \"AdditionalAbove40\", \"age17-40\", \"AdditionalAge17-40\"]\n",
    "output_path = \"preprocessed_dataset\"\n",
    "\n",
    "# Create output directories\n",
    "for subfolder in subfolders:\n",
    "    Path(f\"{output_path}/{subfolder}\").mkdir(parents=True, exist_ok=True)\n",
    "\n",
    "def apply_histogram_equalization(image):\n",
    "    \"\"\"Apply standard histogram equalization to grayscale image.\"\"\"\n",
    "    return cv2.equalizeHist(image)\n",
    "\n",
    "def apply_clahe(image, clip_limit=2.0, tile_grid_size=(8, 8)):\n",
    "    \"\"\"Apply CLAHE to enhance contrast in grayscale image.\"\"\"\n",
    "    clahe = cv2.createCLAHE(clipLimit=clip_limit, tileGridSize=tile_grid_size)\n",
    "    return clahe.apply(image)\n",
    "\n",
    "def preprocess_image(image_path, output_path, age_group):\n",
    "    \"\"\"Preprocess a single OPG scan image.\"\"\"\n",
    "    # Read image in grayscale\n",
    "    img = cv2.imread(image_path, cv2.IMREAD_GRAYSCALE)\n",
    "    if img is None:\n",
    "        print(f\"Failed to load {image_path}\")\n",
    "        return\n",
    "\n",
    "    # Apply preprocessing based on age group\n",
    "    if \"above40\" in age_group.lower():\n",
    "        # Use CLAHE for above-40 group (higher osteoporosis likelihood)\n",
    "        processed_img = apply_clahe(img, clip_limit=2.5, tile_grid_size=(8, 8))\n",
    "    else:\n",
    "        # Use standard histogram equalization for younger group\n",
    "        processed_img = apply_histogram_equalization(img)\n",
    "\n",
    "    # Save processed image\n",
    "    cv2.imwrite(output_path, processed_img)\n",
    "\n",
    "def process_dataset():\n",
    "    \"\"\"Process all images in the dataset.\"\"\"\n",
    "    for subfolder in subfolders:\n",
    "        input_dir = Path(dataset_path) / subfolder\n",
    "        output_dir = Path(output_path) / subfolder\n",
    "        \n",
    "        for img_path in input_dir.glob(\"*.jpg\"):  # Adjust extension if needed\n",
    "            output_img_path = output_dir / img_path.name\n",
    "            preprocess_image(str(img_path), str(output_img_path), subfolder)\n",
    "\n",
    "if __name__ == \"__main__\":\n",
    "    process_dataset()\n",
    "    print(\"Preprocessing complete. Check 'preprocessed_dataset' folder.\")"
   ]
  }
 ],
 "metadata": {
  "kernelspec": {
   "display_name": "py1",
   "language": "python",
   "name": "python3"
  },
  "language_info": {
   "codemirror_mode": {
    "name": "ipython",
    "version": 3
   },
   "file_extension": ".py",
   "mimetype": "text/x-python",
   "name": "python",
   "nbconvert_exporter": "python",
   "pygments_lexer": "ipython3",
   "version": "3.10.0"
  }
 },
 "nbformat": 4,
 "nbformat_minor": 5
}
